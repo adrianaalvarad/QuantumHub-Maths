{
 "cells": [
  {
   "cell_type": "markdown",
   "id": "673383b6",
   "metadata": {},
   "source": [
    "\n",
    "# 📘 Sesion 1: Números Complejos \n",
    "**Fecha:** 26/08 – 6pm  \n",
    "**Tema central:** forma binómica, polar, módulo, argumento y Euler.\n",
    "\n",
    "---\n",
    "\n",
    "Este cuadernillo es tu guía completa para la primera sesión de matemáticas en el curso Introducción a la Computación Cuántica.  \n",
    "La idea es que lo uses como **libro de consulta**: contiene teoría, ejemplos resueltos, ejercicios propuestos y un toque de aplicaciones en cuántica.\n"
   ]
  },
  {
   "cell_type": "markdown",
   "id": "07c822c2",
   "metadata": {},
   "source": [
    "\n",
    "## 1. Motivación y contexto  \n",
    "\n",
    "En la evolución de los sistemas numéricos:  \n",
    "\n",
    "- Los **enteros** permitieron contar y restar.  \n",
    "- Los **racionales** permitieron dividir.  \n",
    "- Los **irracionales** aparecieron al calcular longitudes como la diagonal de un cuadrado.  \n",
    "- Los **números complejos** surgieron al resolver ecuaciones que requerían raíces cuadradas de números negativos.  \n",
    "\n",
    "> **Pregunta motivadora:** ¿Qué número real elevado al cuadrado da -1?  \n",
    "> Ninguno. Por eso definimos la unidad imaginaria \\( i = \\sqrt{-1} \\).  \n",
    "\n",
    "En **física cuántica**, no solo usamos números complejos: los necesitamos.  \n",
    "**Nota**: La probabilidad de observar un estado está dada por el **módulo al cuadrado** de un número complejo.\n"
   ]
  },
  {
   "cell_type": "markdown",
   "id": "eff607fa",
   "metadata": {},
   "source": [
    "\n",
    "## 2. Números imaginarios y la unidad imaginaria  \n",
    "\n",
    "- Un **número imaginario** es un número que al elevarse al cuadrado da un número negativo.  \n",
    "- Definimos la **unidad imaginaria**:  \n",
    "\n",
    "\\[ i = \\sqrt{-1} \\]  \n",
    "\n",
    "Cualquier número imaginario se puede escribir como:  \n",
    "\n",
    "\\[ bi \\quad \\text{donde } b \\in \\mathbb{R} \\]\n"
   ]
  },
  {
   "cell_type": "code",
   "execution_count": 1,
   "id": "55b2c738",
   "metadata": {},
   "outputs": [
    {
     "data": {
      "text/plain": [
       "(1j, (-1+0j))"
      ]
     },
     "execution_count": 1,
     "metadata": {},
     "output_type": "execute_result"
    }
   ],
   "source": [
    "\n",
    "# Verificación con Python\n",
    "i = complex(0,1)\n",
    "i_squared = i**2\n",
    "i, i_squared\n"
   ]
  },
  {
   "cell_type": "markdown",
   "id": "c9878f4e",
   "metadata": {},
   "source": [
    "\n",
    "## 3. Números complejos: Forma binómica o rectangular  \n",
    "\n",
    "Un **número complejo** es de la forma:  \n",
    "\n",
    "\\[ z = a + bi \\]  \n",
    "\n",
    "donde:  \n",
    "- \\(a\\) = parte real  \n",
    "- \\(b\\) = parte imaginaria  \n",
    "\n",
    "Representación en el plano complejo: punto con coordenadas (a, b).\n"
   ]
  },
  {
   "cell_type": "code",
   "execution_count": 2,
   "id": "f7d17f52",
   "metadata": {},
   "outputs": [
    {
     "data": {
      "text/plain": [
       "(3.0, -4.0)"
      ]
     },
     "execution_count": 2,
     "metadata": {},
     "output_type": "execute_result"
    }
   ],
   "source": [
    "\n",
    "# Ejemplo en Python\n",
    "z = complex(3, -4)\n",
    "z.real, z.imag\n"
   ]
  },
  {
   "cell_type": "markdown",
   "id": "8a6df111",
   "metadata": {},
   "source": [
    "\n",
    "## 4. Casos especiales y propiedades básicas  \n",
    "\n",
    "1. **Complejo real**: si b = 0, entonces z = a.  \n",
    "2. **Imaginario puro**: si a = 0, entonces z = bi.  \n",
    "3. **Complejo nulo**: si a = 0 y b = 0, entonces z = 0.  \n",
    "4. **Conjugado**: \\( \\overline{z} = a - bi \\).  \n",
    "5. **Opuesto**: \\( -z = -a - bi \\).  \n"
   ]
  },
  {
   "cell_type": "code",
   "execution_count": 3,
   "id": "62e9f11d",
   "metadata": {},
   "outputs": [
    {
     "data": {
      "text/plain": [
       "((3-4j), (3+4j), (-3+4j))"
      ]
     },
     "execution_count": 3,
     "metadata": {},
     "output_type": "execute_result"
    }
   ],
   "source": [
    "\n",
    "# Ejemplo de conjugado y opuesto\n",
    "z = 3 - 4j\n",
    "conjugado = z.conjugate()\n",
    "opuesto = -z\n",
    "z, conjugado, opuesto\n"
   ]
  },
  {
   "cell_type": "markdown",
   "id": "df3000fe",
   "metadata": {},
   "source": [
    "\n",
    "## 5. Operaciones básicas con complejos  \n",
    "\n",
    "Dado \\( z = a + bi \\) y \\( w = c + di \\):  \n",
    "\n",
    "1. **Suma y resta**  \n",
    "\\[ (a+bi) \\pm (c+di) = (a \\pm c) + (b \\pm d)i \\]  \n",
    "\n",
    "2. **Multiplicación**  \n",
    "\\[ (a+bi)(c+di) = (ac - bd) + (ad+bc)i \\]  \n",
    "\n",
    "3. **División**  \n",
    "\\[ \\frac{a+bi}{c+di} = \\frac{(a+bi)(c-di)}{c^2+d^2} \\]  \n"
   ]
  },
  {
   "cell_type": "code",
   "execution_count": 4,
   "id": "9b39ae03",
   "metadata": {},
   "outputs": [
    {
     "data": {
      "text/plain": [
       "((3-1j), (14-5j), (-0.5882352941176471+0.6470588235294118j))"
      ]
     },
     "execution_count": 4,
     "metadata": {},
     "output_type": "execute_result"
    }
   ],
   "source": [
    "\n",
    "z = 2 + 3j\n",
    "w = 1 - 4j\n",
    "\n",
    "suma = z + w\n",
    "multiplicacion = z * w\n",
    "division = z / w\n",
    "\n",
    "suma, multiplicacion, division\n"
   ]
  },
  {
   "cell_type": "markdown",
   "id": "b204c573",
   "metadata": {},
   "source": [
    "\n",
    "## 6. Forma polar o trigonométrica  \n",
    "\n",
    "Sea \\( z = a+bi \\). Definimos:  \n",
    "\n",
    "- **Módulo**: \\( |z| = \\sqrt{a^2+b^2} \\)  \n",
    "- **Argumento**: \\( \\theta = \\tan^{-1}(b/a) \\)  \n",
    "\n",
    "Entonces:  \n",
    "\\[ z = |z|(\\cos \\theta + i \\sin \\theta) \\]  \n",
    "\n",
    "Notación abreviada:  \n",
    "\\[ z = |z| \\cdot cis(\\theta) \\]\n"
   ]
  },
  {
   "cell_type": "code",
   "execution_count": 5,
   "id": "a8c05ee9",
   "metadata": {},
   "outputs": [
    {
     "data": {
      "text/plain": [
       "(1.4142135623730951, 0.7853981633974483)"
      ]
     },
     "execution_count": 5,
     "metadata": {},
     "output_type": "execute_result"
    }
   ],
   "source": [
    "\n",
    "import cmath\n",
    "z = 1 + 1j\n",
    "modulo = abs(z)\n",
    "argumento = cmath.phase(z)\n",
    "modulo, argumento\n"
   ]
  },
  {
   "cell_type": "markdown",
   "id": "dc946f15",
   "metadata": {},
   "source": [
    "\n",
    "## 7. Forma exponencial y la fórmula de Euler  \n",
    "\n",
    "La **identidad de Euler** dice:  \n",
    "\n",
    "\\[ e^{i\\theta} = \\cos\\theta + i\\sin\\theta \\]  \n",
    "\n",
    "Así, un complejo se escribe como:  \n",
    "\\[ z = |z| e^{i\\theta} \\]\n"
   ]
  },
  {
   "cell_type": "code",
   "execution_count": 6,
   "id": "1a0d8bf6",
   "metadata": {},
   "outputs": [
    {
     "data": {
      "text/plain": [
       "(0.5000000000000001+0.8660254037844386j)"
      ]
     },
     "execution_count": 6,
     "metadata": {},
     "output_type": "execute_result"
    }
   ],
   "source": [
    "\n",
    "theta = cmath.pi/3\n",
    "euler = cmath.exp(1j*theta)\n",
    "euler\n"
   ]
  },
  {
   "cell_type": "markdown",
   "id": "30556127",
   "metadata": {},
   "source": [
    "\n",
    "## 8. Interpretación de la multiplicación como rotación  \n",
    "\n",
    "En forma polar o exponencial:  \n",
    "\n",
    "\\[ z_1 z_2 = |z_1||z_2| e^{i(\\theta_1+\\theta_2)} \\]  \n",
    "\n",
    "➡️ Multiplicar por \\( e^{i\\theta} \\) **rota** el número complejo un ángulo \\( \\theta \\).  \n",
    "\n",
    "### Ejemplo:\n",
    "- Multiplicar por \\( e^{i\\pi/2} \\): rotación 90°.  \n",
    "- Multiplicar por \\( e^{i2\\pi/3} \\): rotación 120°.  \n",
    "- Multiplicar por \\( e^{i\\pi} \\): rotación 180°.  \n"
   ]
  },
  {
   "cell_type": "code",
   "execution_count": 7,
   "id": "ca8c063a",
   "metadata": {},
   "outputs": [
    {
     "data": {
      "text/plain": [
       "((6.123233995736766e-17+1j),\n",
       " (-0.4999999999999998+0.8660254037844387j),\n",
       " (-1+1.2246467991473532e-16j))"
      ]
     },
     "execution_count": 7,
     "metadata": {},
     "output_type": "execute_result"
    }
   ],
   "source": [
    "\n",
    "# Ejemplo: rotación de un complejo\n",
    "z = 1 + 0j  # punto en el eje real\n",
    "rot90 = z * cmath.exp(1j*cmath.pi/2)\n",
    "rot120 = z * cmath.exp(1j*2*cmath.pi/3)\n",
    "rot180 = z * cmath.exp(1j*cmath.pi)\n",
    "rot90, rot120, rot180\n"
   ]
  },
  {
   "cell_type": "markdown",
   "id": "e1ae6d2f",
   "metadata": {},
   "source": [
    "\n",
    "## 9. Ejercicios propuestos  \n",
    "\n",
    "1. Representa \\( 3 - 4i \\) en forma binómica, polar y exponencial.  \n",
    "2. Calcula \\( (2+i)(3-2i) \\) y verifica el resultado en Python.  \n",
    "3. Determina módulo y argumento de \\( z = -1+i\\sqrt{3} \\).  \n",
    "4. Demuestra que \\( z \\cdot \\overline{z} = |z|^2 \\).  \n",
    "5. Aplica una rotación de 120° a \\( z = 2+i \\) usando la forma exponencial.  \n",
    "\n",
    "---\n",
    "\n",
    "## 10. Aplicación en Computación Cuántica (mini-probadita)\n",
    "\n",
    "Un qubit se escribe como:  \n",
    "\n",
    "\\[ |\\psi\\rangle = \\alpha|0\\rangle + \\beta|1\\rangle \\]  \n",
    "\n",
    "donde \\( \\alpha, \\beta \\in \\mathbb{C} \\) y:  \n",
    "\n",
    "\\[ |\\alpha|^2 + |\\beta|^2 = 1 \\]  \n",
    "\n",
    "- El **módulo** de cada coeficiente = probabilidad de medir ese estado.  \n",
    "- El **argumento** (fase) afecta fenómenos de **interferencia**.  \n"
   ]
  }
 ],
 "metadata": {
  "kernelspec": {
   "display_name": "Python 3",
   "language": "python",
   "name": "python3"
  },
  "language_info": {
   "codemirror_mode": {
    "name": "ipython",
    "version": 3
   },
   "file_extension": ".py",
   "mimetype": "text/x-python",
   "name": "python",
   "nbconvert_exporter": "python",
   "pygments_lexer": "ipython3",
   "version": "3.13.4"
  }
 },
 "nbformat": 4,
 "nbformat_minor": 5
}
